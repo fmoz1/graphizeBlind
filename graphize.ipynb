{
 "cells": [
  {
   "cell_type": "markdown",
   "metadata": {},
   "source": [
    "# Create meaningful embeddings using node2vec \n",
    "* skip-gram: http://mccormickml.com/2016/04/19/word2vec-tutorial-the-skip-gram-model/\n",
    "* word2vec vs. node2vec\n",
    "* node2vec: sampling \n",
    "  * number of walks: # of random walks to be generated from each node\n",
    "  * walk length: how many nodes are in each random walk\n",
    "  * P: return hyperparam\n",
    "  * Q: inout hyperparam \n"
   ]
  },
  {
   "cell_type": "code",
   "execution_count": 112,
   "metadata": {},
   "outputs": [],
   "source": [
    "# use node2vec to blind posts \n",
    "# each post has a original poster with employer flagged (nodes)\n",
    "# the post talks about own employer, as well as other companies \n",
    "# own employer - company edges \n",
    " \n",
    "# node2vec algo\n",
    "# grover & leskovec 2016 scalable feature learning for networks\n",
    "from node2vec import Node2Vec\n",
    "\n",
    "\n",
    "import os \n",
    "from pathlib import Path \n",
    "import numpy as np \n",
    "import pandas as pd \n",
    "import matplotlib.pyplot as plt \n",
    "import random \n",
    "import tensorflow as tf \n",
    "from tensorflow import keras\n",
    "from tensorflow.keras import layers\n",
    "\n",
    "\n",
    "# generate graph \n",
    "import networkx as nx\n",
    "from tqdm import tqdm\n",
    "from collections import defaultdict\n",
    "import math\n",
    "\n",
    "# info\n",
    "import warnings\n",
    "warnings.filterwarnings('ignore')\n"
   ]
  },
  {
   "cell_type": "code",
   "execution_count": 57,
   "metadata": {},
   "outputs": [],
   "source": [
    "# set seed for reproducibility\n",
    "os.environ['PYTHONHASHSEED'] = '0'\n",
    "np.random.seed(123)\n",
    "random.seed(123)\n",
    "tf.random.set_seed(1234)\n"
   ]
  },
  {
   "cell_type": "code",
   "execution_count": 24,
   "metadata": {},
   "outputs": [
    {
     "name": "stdout",
     "output_type": "stream",
     "text": [
      "---reading raw files from /Users/fangfeishu/Projects/advancedNLP/datafiles/blindPosts/---\n"
     ]
    }
   ],
   "source": [
    "# load data\n",
    "file_path = f'{str(Path(os.getcwd()).parent)}/datafiles/blindPosts/'  # original csvs separated by company\n",
    "print(f'---reading raw files from {file_path}---')\n",
    "files = [file_path + f for f in os.listdir(file_path)]\n",
    "df = pd.concat([pd.read_csv(f, parse_dates=True).iloc[:, 1:]\n",
    "                for f in files])  # concat all csvs\n",
    "\n",
    "# prepare data\n",
    "df = df.rename({'post_like': 'likes', 'post_comment': 'comments'}, axis=1)\n",
    "df['post_firm'] = df['post_firm'].map(lambda x: str(\n",
    "    x).replace('/company/', '').rstrip('/'))  # op's employer\n",
    "df['likes'] = df['likes'].map(lambda x: str(x).replace(',', ''))  # of likes\n",
    "df['comments'] = df['comments'].map(\n",
    "    lambda x: str(x).replace(',', ''))  # of comments\n",
    "\n",
    "# change data types\n",
    "df['likes'] = pd.to_numeric(df['likes'])\n",
    "df['comments'] = pd.to_numeric(df['comments'])\n",
    "df['post_timestamp'] = pd.to_datetime(df['post_timestamp'])\n",
    "df = df.reset_index().set_index(\n",
    "    ['company', 'post_timestamp']).sort_index().reset_index()\n",
    "df = df[~df['post_text'].duplicated()]\n",
    "df = df[['company', 'post_firm', 'likes', 'comments']]"
   ]
  },
  {
   "cell_type": "markdown",
   "metadata": {},
   "source": [
    "### Step 1: Create weighted edges between companies"
   ]
  },
  {
   "cell_type": "code",
   "execution_count": 34,
   "metadata": {},
   "outputs": [
    {
     "name": "stderr",
     "output_type": "stream",
     "text": [
      "Compute post likes frequencies : 100%|██████████| 614/614 [00:03<00:00, 177.97it/s]\n"
     ]
    }
   ],
   "source": [
    "# Construct the companies graph \n",
    "min_likes = df.likes.quantile(0.95)  \n",
    "pair_frequency = defaultdict(int)\n",
    "item_frequency = defaultdict(int)\n",
    "\n",
    "# Optional: filter instances where likes or comments are too low \n",
    "liked_posts = df[df.likes > min_likes]\n",
    "# Group instances by user.\n",
    "posts_groupby_usercompany = list(liked_posts.groupby(\"post_firm\"))\n",
    "for group in tqdm(\n",
    "    posts_groupby_usercompany,\n",
    "    position=0,\n",
    "    leave=True,\n",
    "    desc=\"Compute post likes frequencies \",\n",
    "):\n",
    "    # Get a list of movies rated by the user.\n",
    "    out_company = list(group[1][\"company\"])\n",
    "\n",
    "    for i in range(len(out_company)):\n",
    "        item_frequency[out_company[i]] += 1\n",
    "        for j in range(i + 1, len(out_company)):\n",
    "            x = min(out_company[i], out_company[j])\n",
    "            y = max(out_company[i], out_company[j])\n",
    "            pair_frequency[(x, y)] += 1"
   ]
  },
  {
   "cell_type": "markdown",
   "metadata": {},
   "source": [
    "### Step 2: Create the graph with the nodes and the edges"
   ]
  },
  {
   "cell_type": "code",
   "execution_count": 49,
   "metadata": {},
   "outputs": [
    {
     "name": "stderr",
     "output_type": "stream",
     "text": [
      "Creating the company graph: 100%|██████████| 24262/24262 [00:00<00:00, 159433.91it/s]\n"
     ]
    }
   ],
   "source": [
    "# to reduce the edges between nodes, we only add an edge between companies if the weight\n",
    "# of the edge is greater than `min_weight`\n",
    "\n",
    "min_weight = 10\n",
    "D = math.log(sum(item_frequency.values()))\n",
    "\n",
    "# Create the movies undirected graph.\n",
    "company_graph = nx.Graph()\n",
    "# Add weighted edges between movies.\n",
    "# This automatically adds the movie nodes to the graph.\n",
    "for pair in tqdm(\n",
    "    pair_frequency, position=0, leave=True, desc=\"Creating the company graph\"\n",
    "):\n",
    "    x, y = pair\n",
    "    xy_frequency = pair_frequency[pair]\n",
    "    x_frequency = item_frequency[x]\n",
    "    y_frequency = item_frequency[y]\n",
    "    pmi = math.log(xy_frequency) - math.log(x_frequency) - math.log(y_frequency) + D\n",
    "    weight = pmi * xy_frequency\n",
    "    # Only include edges with weight >= min_weight.\n",
    "    if weight >= min_weight:\n",
    "        company_graph.add_edge(x, y, weight=weight)"
   ]
  },
  {
   "cell_type": "code",
   "execution_count": 50,
   "metadata": {},
   "outputs": [
    {
     "name": "stdout",
     "output_type": "stream",
     "text": [
      "Total number of graph nodes: 298\n",
      "Total number of graph edges: 18384\n"
     ]
    }
   ],
   "source": [
    "print(\"Total number of graph nodes:\", company_graph.number_of_nodes())\n",
    "print(\"Total number of graph edges:\", company_graph.number_of_edges())"
   ]
  },
  {
   "cell_type": "code",
   "execution_count": 51,
   "metadata": {},
   "outputs": [
    {
     "name": "stdout",
     "output_type": "stream",
     "text": [
      "Average node degree: 123.38\n"
     ]
    }
   ],
   "source": [
    "degrees = []\n",
    "for node in company_graph.nodes:\n",
    "    degrees.append(company_graph.degree[node])\n",
    "\n",
    "print(\"Average node degree:\", round(sum(degrees) / len(degrees), 2))"
   ]
  },
  {
   "cell_type": "markdown",
   "metadata": {},
   "source": [
    "### Step 3: Create a vocabulary and a mapping from tokens to int indices"
   ]
  },
  {
   "cell_type": "code",
   "execution_count": 44,
   "metadata": {},
   "outputs": [],
   "source": [
    "vocabulary = [\"NA\"] + list(company_graph.nodes)\n",
    "vocabulary_lookup = {token: idx for idx, token in enumerate(vocabulary)}"
   ]
  },
  {
   "cell_type": "markdown",
   "metadata": {},
   "source": [
    "## Implement the biased random walk"
   ]
  },
  {
   "cell_type": "code",
   "execution_count": 52,
   "metadata": {},
   "outputs": [],
   "source": [
    "def next_step(graph, previous, current, p, q):\n",
    "    neighbors = list(graph.neighbors(current))\n",
    "\n",
    "    weights = []\n",
    "    # Adjust the weights of the edges to the neighbors with respect to p and q.\n",
    "    for neighbor in neighbors:\n",
    "        if neighbor == previous:\n",
    "            # Control the probability to return to the previous node.\n",
    "            weights.append(graph[current][neighbor][\"weight\"] / p)\n",
    "        elif graph.has_edge(neighbor, previous):\n",
    "            # The probability of visiting a local node.\n",
    "            weights.append(graph[current][neighbor][\"weight\"])\n",
    "        else:\n",
    "            # Control the probability to move forward.\n",
    "            weights.append(graph[current][neighbor][\"weight\"] / q)\n",
    "\n",
    "    # Compute the probabilities of visiting each neighbor.\n",
    "    weight_sum = sum(weights)\n",
    "    probabilities = [weight / weight_sum for weight in weights]\n",
    "    # Probabilistically select a neighbor to visit.\n",
    "    next = np.random.choice(neighbors, size=1, p=probabilities)[0]\n",
    "    return next\n",
    "\n",
    "\n",
    "def random_walk(graph, num_walks, num_steps, p, q):\n",
    "    walks = []\n",
    "    nodes = list(graph.nodes())\n",
    "    # Perform multiple iterations of the random walk.\n",
    "    for walk_iteration in range(num_walks):\n",
    "        random.shuffle(nodes)\n",
    "\n",
    "        for node in tqdm(\n",
    "            nodes,\n",
    "            position=0,\n",
    "            leave=True,\n",
    "            desc=f\"Random walks iteration {walk_iteration + 1} of {num_walks}\",\n",
    "        ):\n",
    "            # Start the walk with a random node from the graph.\n",
    "            walk = [node]\n",
    "            # Randomly walk for num_steps.\n",
    "            while len(walk) < num_steps:\n",
    "                current = walk[-1]\n",
    "                previous = walk[-2] if len(walk) > 1 else None\n",
    "                # Compute the next node to visit.\n",
    "                next = next_step(graph, previous, current, p, q)\n",
    "                walk.append(next)\n",
    "            # Replace node ids (movie ids) in the walk with token ids.\n",
    "            walk = [vocabulary_lookup[token] for token in walk]\n",
    "            # Add the walk to the generated sequence.\n",
    "            walks.append(walk)\n",
    "\n",
    "    return walks"
   ]
  },
  {
   "cell_type": "code",
   "execution_count": 58,
   "metadata": {},
   "outputs": [
    {
     "name": "stderr",
     "output_type": "stream",
     "text": [
      "Random walks iteration 1 of 5: 100%|██████████| 298/298 [00:04<00:00, 59.92it/s]\n",
      "Random walks iteration 2 of 5: 100%|██████████| 298/298 [00:04<00:00, 73.08it/s]\n",
      "Random walks iteration 3 of 5: 100%|██████████| 298/298 [00:04<00:00, 67.12it/s]\n",
      "Random walks iteration 4 of 5: 100%|██████████| 298/298 [00:04<00:00, 73.29it/s]\n",
      "Random walks iteration 5 of 5: 100%|██████████| 298/298 [00:04<00:00, 60.72it/s]"
     ]
    },
    {
     "name": "stdout",
     "output_type": "stream",
     "text": [
      "Number of walks generated: 1490\n"
     ]
    },
    {
     "name": "stderr",
     "output_type": "stream",
     "text": [
      "\n"
     ]
    }
   ],
   "source": [
    "# Random walk return parameter.\n",
    "p = 1\n",
    "# Random walk in-out parameter.\n",
    "q = 1\n",
    "# Number of iterations of random walks.\n",
    "num_walks = 5\n",
    "# Number of steps of each random walk.\n",
    "num_steps = 10\n",
    "walks = random_walk(company_graph, num_walks, num_steps, p, q)\n",
    "\n",
    "print(\"Number of walks generated:\", len(walks))"
   ]
  },
  {
   "cell_type": "code",
   "execution_count": 61,
   "metadata": {},
   "outputs": [
    {
     "name": "stderr",
     "output_type": "stream",
     "text": [
      "Generating postive and negative examples: 100%|██████████| 1490/1490 [00:06<00:00, 232.40it/s]\n"
     ]
    }
   ],
   "source": [
    "def generate_examples(sequences, window_size, num_negative_samples, vocabulary_size):\n",
    "    example_weights = defaultdict(int)\n",
    "    # Iterate over all sequences (walks).\n",
    "    for sequence in tqdm(\n",
    "        sequences,\n",
    "        position=0,\n",
    "        leave=True,\n",
    "        desc=f\"Generating postive and negative examples\",\n",
    "    ):\n",
    "        # Generate positive and negative skip-gram pairs for a sequence (walk).\n",
    "        pairs, labels = keras.preprocessing.sequence.skipgrams(\n",
    "            sequence,\n",
    "            vocabulary_size=vocabulary_size,\n",
    "            window_size=window_size,\n",
    "            negative_samples=num_negative_samples,\n",
    "        )\n",
    "        for idx in range(len(pairs)):\n",
    "            pair = pairs[idx]\n",
    "            label = labels[idx]\n",
    "            target, context = min(pair[0], pair[1]), max(pair[0], pair[1])\n",
    "            if target == context:\n",
    "                continue\n",
    "            entry = (target, context, label)\n",
    "            example_weights[entry] += 1\n",
    "\n",
    "    targets, contexts, labels, weights = [], [], [], []\n",
    "    for entry in example_weights:\n",
    "        weight = example_weights[entry]\n",
    "        target, context, label = entry\n",
    "        targets.append(target)\n",
    "        contexts.append(context)\n",
    "        labels.append(label)\n",
    "        weights.append(weight)\n",
    "\n",
    "    return np.array(targets), np.array(contexts), np.array(labels), np.array(weights)\n",
    "\n",
    "\n",
    "num_negative_samples = 4\n",
    "targets, contexts, labels, weights = generate_examples(\n",
    "    sequences=walks,\n",
    "    window_size=num_steps,\n",
    "    num_negative_samples=num_negative_samples,\n",
    "    vocabulary_size=len(vocabulary),\n",
    ")"
   ]
  },
  {
   "cell_type": "code",
   "execution_count": 62,
   "metadata": {},
   "outputs": [
    {
     "name": "stdout",
     "output_type": "stream",
     "text": [
      "Targets shape: (53045,)\n",
      "Contexts shape: (53045,)\n",
      "Labels shape: (53045,)\n",
      "Weights shape: (53045,)\n"
     ]
    }
   ],
   "source": [
    "print(f\"Targets shape: {targets.shape}\")\n",
    "print(f\"Contexts shape: {contexts.shape}\")\n",
    "print(f\"Labels shape: {labels.shape}\")\n",
    "print(f\"Weights shape: {weights.shape}\")"
   ]
  },
  {
   "cell_type": "code",
   "execution_count": 63,
   "metadata": {},
   "outputs": [],
   "source": [
    "batch_size = 1024\n",
    "\n",
    "\n",
    "def create_dataset(targets, contexts, labels, weights, batch_size):\n",
    "    inputs = {\n",
    "        \"target\": targets,\n",
    "        \"context\": contexts,\n",
    "    }\n",
    "    dataset = tf.data.Dataset.from_tensor_slices((inputs, labels, weights))\n",
    "    dataset = dataset.shuffle(buffer_size=batch_size * 2)\n",
    "    dataset = dataset.batch(batch_size, drop_remainder=True)\n",
    "    dataset = dataset.prefetch(tf.data.AUTOTUNE)\n",
    "    return dataset\n",
    "\n",
    "\n",
    "dataset = create_dataset(\n",
    "    targets=targets,\n",
    "    contexts=contexts,\n",
    "    labels=labels,\n",
    "    weights=weights,\n",
    "    batch_size=batch_size,\n",
    ")"
   ]
  },
  {
   "cell_type": "markdown",
   "metadata": {},
   "source": [
    "## Train the skip-gram model"
   ]
  },
  {
   "cell_type": "code",
   "execution_count": 64,
   "metadata": {},
   "outputs": [],
   "source": [
    "learning_rate = 0.001\n",
    "embedding_dim = 50\n",
    "num_epochs = 10\n",
    "def create_model(vocabulary_size, embedding_dim):\n",
    "\n",
    "    inputs = {\n",
    "        \"target\": layers.Input(name=\"target\", shape=(), dtype=\"int32\"),\n",
    "        \"context\": layers.Input(name=\"context\", shape=(), dtype=\"int32\"),\n",
    "    }\n",
    "    # Initialize item embeddings.\n",
    "    embed_item = layers.Embedding(\n",
    "        input_dim=vocabulary_size,\n",
    "        output_dim=embedding_dim,\n",
    "        embeddings_initializer=\"he_normal\",\n",
    "        embeddings_regularizer=keras.regularizers.l2(1e-6),\n",
    "        name=\"item_embeddings\",\n",
    "    )\n",
    "    # Lookup embeddings for target.\n",
    "    target_embeddings = embed_item(inputs[\"target\"])\n",
    "    # Lookup embeddings for context.\n",
    "    context_embeddings = embed_item(inputs[\"context\"])\n",
    "    # Compute dot similarity between target and context embeddings.\n",
    "    logits = layers.Dot(axes=1, normalize=False, name=\"dot_similarity\")(\n",
    "        [target_embeddings, context_embeddings]\n",
    "    )\n",
    "    # Create the model.\n",
    "    model = keras.Model(inputs=inputs, outputs=logits)\n",
    "    return model"
   ]
  },
  {
   "cell_type": "code",
   "execution_count": 65,
   "metadata": {},
   "outputs": [],
   "source": [
    "model = create_model(len(vocabulary), embedding_dim)\n",
    "model.compile(\n",
    "    optimizer=keras.optimizers.Adam(learning_rate),\n",
    "    loss=keras.losses.BinaryCrossentropy(from_logits=True),\n",
    ")"
   ]
  },
  {
   "cell_type": "code",
   "execution_count": 66,
   "metadata": {},
   "outputs": [
    {
     "data": {
      "image/png": "[encoded data removed]",
      "text/plain": [
       "<IPython.core.display.Image object>"
      ]
     },
     "execution_count": 66,
     "metadata": {},
     "output_type": "execute_result"
    }
   ],
   "source": [
    "keras.utils.plot_model(\n",
    "    model, show_shapes=True, show_dtype=True, show_layer_names=True,\n",
    ")"
   ]
  },
  {
   "cell_type": "code",
   "execution_count": 67,
   "metadata": {},
   "outputs": [
    {
     "name": "stdout",
     "output_type": "stream",
     "text": [
      "Epoch 1/10\n",
      "51/51 [==============================] - 3s 16ms/step - loss: 8.8208\n",
      "Epoch 2/10\n",
      "51/51 [==============================] - 1s 14ms/step - loss: 8.8042\n",
      "Epoch 3/10\n",
      "51/51 [==============================] - 1s 20ms/step - loss: 8.7828\n",
      "Epoch 4/10\n",
      "51/51 [==============================] - 1s 19ms/step - loss: 8.7475\n",
      "Epoch 5/10\n",
      "51/51 [==============================] - 1s 19ms/step - loss: 8.6863\n",
      "Epoch 6/10\n",
      "51/51 [==============================] - 1s 19ms/step - loss: 8.5911\n",
      "Epoch 7/10\n",
      "51/51 [==============================] - 1s 15ms/step - loss: 8.4558\n",
      "Epoch 8/10\n",
      "51/51 [==============================] - 1s 16ms/step - loss: 8.2866\n",
      "Epoch 9/10\n",
      "51/51 [==============================] - 1s 13ms/step - loss: 8.1125\n",
      "Epoch 10/10\n",
      "51/51 [==============================] - 1s 15ms/step - loss: 7.9571\n"
     ]
    }
   ],
   "source": [
    "history = model.fit(dataset, epochs=num_epochs)"
   ]
  },
  {
   "cell_type": "code",
   "execution_count": 68,
   "metadata": {},
   "outputs": [
    {
     "data": {
      "image/png": "[encoded data removed]",
      "text/plain": [
       "<Figure size 432x288 with 1 Axes>"
      ]
     },
     "metadata": {
      "needs_background": "light"
     },
     "output_type": "display_data"
    }
   ],
   "source": [
    "plt.plot(history.history[\"loss\"])\n",
    "plt.ylabel(\"loss\")\n",
    "plt.xlabel(\"epoch\")\n",
    "plt.show()"
   ]
  },
  {
   "cell_type": "code",
   "execution_count": 72,
   "metadata": {},
   "outputs": [
    {
     "name": "stdout",
     "output_type": "stream",
     "text": [
      "Embeddings shape: (299, 50)\n"
     ]
    }
   ],
   "source": [
    "company_embeddings = model.get_layer(\"item_embeddings\").get_weights()[0]\n",
    "print(\"Embeddings shape:\", company_embeddings.shape)"
   ]
  },
  {
   "cell_type": "code",
   "execution_count": 93,
   "metadata": {},
   "outputs": [],
   "source": [
    "\n",
    "\n",
    "query = [\n",
    "    \"Postmates\",\n",
    "    \"DoorDash\",\n",
    "    \"Facebook\",\n",
    "    \"Qualcomm\",\n",
    "]\n",
    "\n",
    "query_embeddings = []\n",
    "\n",
    "for company in query:\n",
    "    token_id = vocabulary_lookup[company]\n",
    "    company_embedding = company_embeddings[token_id]\n",
    "    query_embeddings.append(company_embedding)\n",
    "\n",
    "query_embeddings = np.array(query_embeddings)"
   ]
  },
  {
   "cell_type": "code",
   "execution_count": 94,
   "metadata": {},
   "outputs": [],
   "source": [
    "similarities = tf.linalg.matmul(\n",
    "    tf.math.l2_normalize(query_embeddings),\n",
    "    tf.math.l2_normalize(company_embeddings),\n",
    "    transpose_b=True,\n",
    ")\n",
    "\n",
    "_, indices = tf.math.top_k(similarities, k=10)\n",
    "indices = indices.numpy().tolist()"
   ]
  },
  {
   "cell_type": "code",
   "execution_count": 95,
   "metadata": {},
   "outputs": [
    {
     "name": "stdout",
     "output_type": "stream",
     "text": [
      "Postmates\n",
      "---------\n",
      "- Postmates\n",
      "- Porsche\n",
      "- Bank-of-the-West\n",
      "- Fanatics\n",
      "- Macys\n",
      "- BlueJeans\n",
      "- GoDaddy\n",
      "- IEEE\n",
      "- KPMG\n",
      "- BCG-Digital-Ventures\n",
      "\n",
      "DoorDash\n",
      "--------\n",
      "- DoorDash\n",
      "- Facebook\n",
      "- Citi\n",
      "- Booking.com\n",
      "- Airbnb\n",
      "- Google\n",
      "- Microsoft\n",
      "- UPS\n",
      "- Travelers\n",
      "- Robinhood\n",
      "\n",
      "Facebook\n",
      "--------\n",
      "- Facebook\n",
      "- Amazon\n",
      "- Booking.com\n",
      "- Google\n",
      "- Move\n",
      "- Citi\n",
      "- Robinhood\n",
      "- Airbnb\n",
      "- Microsoft\n",
      "- Visa\n",
      "\n",
      "Qualcomm\n",
      "--------\n",
      "- Qualcomm\n",
      "- IEEE\n",
      "- ServiceNow\n",
      "- CA-Technologies\n",
      "- BCG-Digital-Ventures\n",
      "- Macys\n",
      "- NortonLifeLock\n",
      "- Mastercard\n",
      "- Druva\n",
      "- Palo-Alto-Networks\n",
      "\n"
     ]
    }
   ],
   "source": [
    "for idx, title in enumerate(query):\n",
    "    print(title)\n",
    "    print(\"\".rjust(len(title), \"-\"))\n",
    "    similar_tokens = indices[idx]\n",
    "    for token in similar_tokens:\n",
    "        similar_id = vocabulary[token]\n",
    "        print(f\"- {similar_id}\")\n",
    "    print()"
   ]
  },
  {
   "cell_type": "markdown",
   "metadata": {},
   "source": [
    "## Node2Vec algorithm"
   ]
  },
  {
   "cell_type": "code",
   "execution_count": 98,
   "metadata": {},
   "outputs": [
    {
     "name": "stderr",
     "output_type": "stream",
     "text": [
      "Computing transition probabilities: 100%|██████████| 298/298 [00:56<00:00,  5.31it/s]\n"
     ]
    }
   ],
   "source": [
    "node2vec = Node2Vec(company_graph, dimensions=20, walk_length=16, num_walks=100, workers=2)"
   ]
  },
  {
   "cell_type": "code",
   "execution_count": 101,
   "metadata": {},
   "outputs": [],
   "source": [
    "model = node2vec.fit(window=10, min_count=1)"
   ]
  },
  {
   "cell_type": "code",
   "execution_count": 114,
   "metadata": {},
   "outputs": [
    {
     "name": "stdout",
     "output_type": "stream",
     "text": [
      "State-Farm\n",
      "Morningstar\n",
      "Grubhub\n",
      "AQR\n",
      "ABB\n",
      "Instacart\n",
      "McKinsey\n",
      "Just-Energy\n",
      "Auth0\n",
      "Citi\n"
     ]
    }
   ],
   "source": [
    "for node, _ in model.most_similar('Coinbase'):\n",
    "    print(node)"
   ]
  }
 ],
 "metadata": {
  "interpreter": {
   "hash": "aee8b7b246df8f9039afb4144a1f6fd8d2ca17a180786b69acc140d282b71a49"
  },
  "kernelspec": {
   "display_name": "Python 3.7.4 64-bit",
   "language": "python",
   "name": "python3"
  },
  "language_info": {
   "codemirror_mode": {
    "name": "ipython",
    "version": 3
   },
   "file_extension": ".py",
   "mimetype": "text/x-python",
   "name": "python",
   "nbconvert_exporter": "python",
   "pygments_lexer": "ipython3",
   "version": "3.7.4"
  },
  "orig_nbformat": 4
 },
 "nbformat": 4,
 "nbformat_minor": 2
}
